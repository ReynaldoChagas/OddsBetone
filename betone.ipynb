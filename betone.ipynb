{
 "cells": [
  {
   "cell_type": "code",
   "execution_count": null,
   "metadata": {},
   "outputs": [],
   "source": [
    "#Importação das Bibliotecas\n",
    "import pandas as pd\n",
    "from selenium import webdriver\n",
    "from selenium.webdriver.common.by import By\n",
    "import gspread\n",
    "from oauth2client.service_account import ServiceAccountCredentials\n",
    "from selenium.webdriver.support.ui import WebDriverWait\n",
    "from selenium.webdriver.support import expected_conditions as EC\n"
   ]
  },
  {
   "cell_type": "code",
   "execution_count": null,
   "metadata": {},
   "outputs": [],
   "source": [
    "#Credenciais de acesso\n",
    "scope = [\"https://spreadsheets.google.com/feeds\", \"https://www.googleapis.com/auth/drive\"]\n",
    "creds = ServiceAccountCredentials.from_json_keyfile_name(\"Api Json File.json\", scope)\n",
    "client = gspread.authorize(creds)\n",
    "spreadsheet = client.open(\"File Name\")\n",
    "sheet = spreadsheet.worksheet(\"Worksheet Name\")"
   ]
  },
  {
   "cell_type": "code",
   "execution_count": null,
   "metadata": {},
   "outputs": [],
   "source": [
    "#Driver do navegador\n",
    "driver = webdriver.Chrome()\n",
    "driver.get('https://betone.com/pt/cybersport/102357/68144651')\n",
    "wait = WebDriverWait(driver, 10)"
   ]
  },
  {
   "cell_type": "code",
   "execution_count": null,
   "metadata": {},
   "outputs": [],
   "source": [
    "#Scrapping das odds\n",
    "try:\n",
    "    button = wait.until(EC.presence_of_element_located((By.XPATH,'//*[@id=\"modal-backdrop\"]/div/button')))\n",
    "    button.click()\n",
    "except Exception as e:\n",
    "    e\n",
    "finally:\n",
    "    events = wait.until(EC.presence_of_all_elements_located((By.CLASS_NAME, \"event-item\")))\n",
    "    events_series = pd.Series(events)\n",
    "    events_series = events_series.apply(lambda x : x.text.split('\\n'))\n",
    "    events_series = events_series.apply(lambda x: x[:2] + x[x.index('Partida'):x.index('Partida')+4])"
   ]
  },
  {
   "cell_type": "code",
   "execution_count": null,
   "metadata": {},
   "outputs": [
    {
     "data": {
      "text/plain": [
       "{'spreadsheetId': '1YxoMJ3pxBysBage17J83Y9sJ5WwxA5YJYPgGhwPv2YA',\n",
       " 'updates': {'spreadsheetId': '1YxoMJ3pxBysBage17J83Y9sJ5WwxA5YJYPgGhwPv2YA',\n",
       "  'updatedRange': 'ODDS!A1:F8',\n",
       "  'updatedRows': 8,\n",
       "  'updatedColumns': 6,\n",
       "  'updatedCells': 48}}"
      ]
     },
     "execution_count": 313,
     "metadata": {},
     "output_type": "execute_result"
    }
   ],
   "source": [
    "#Upload das odds na worksheet\n",
    "sheet.clear()\n",
    "sheet.append_rows(events_series.to_list())"
   ]
  }
 ],
 "metadata": {
  "kernelspec": {
   "display_name": "Python 3",
   "language": "python",
   "name": "python3"
  },
  "language_info": {
   "codemirror_mode": {
    "name": "ipython",
    "version": 3
   },
   "file_extension": ".py",
   "mimetype": "text/x-python",
   "name": "python",
   "nbconvert_exporter": "python",
   "pygments_lexer": "ipython3",
   "version": "3.11.9"
  }
 },
 "nbformat": 4,
 "nbformat_minor": 2
}
